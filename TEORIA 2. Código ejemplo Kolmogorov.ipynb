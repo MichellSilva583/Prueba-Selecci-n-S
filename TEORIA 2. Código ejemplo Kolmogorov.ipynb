{
 "cells": [
  {
   "cell_type": "code",
   "execution_count": null,
   "id": "b520e257-fbec-45e8-81cf-fb8a65e8bff3",
   "metadata": {},
   "outputs": [],
   "source": [
    "import numpy as np\n",
    "import scipy.stats as stats\n",
    "from sklearn.preprocessing import StandardScaler\n",
    "\n",
    "def validar_drift_datos(datos_originales, datos_actuales):\n",
    "    # Prueba estadística Kolmogorov-Smirnov\n",
    "    resultados_drift = {}\n",
    "    \n",
    "    for caracteristica in datos_originales.columns:\n",
    "        # Normalizar datos\n",
    "        scaler = StandardScaler()\n",
    "        datos_orig_norm = scaler.fit_transform(datos_originales[caracteristica].values.reshape(-1, 1))\n",
    "        datos_actual_norm = scaler.transform(datos_actuales[caracteristica].values.reshape(-1, 1))\n",
    "        \n",
    "        # Test Kolmogorov-Smirnov\n",
    "        estadistico, p_valor = stats.ks_2samp(datos_orig_norm, datos_actual_norm)\n",
    "        \n",
    "        resultados_drift[caracteristica] = {\n",
    "            'estadistico': estadistico,\n",
    "            'p_valor': p_valor,\n",
    "            'hay_drift': p_valor < 0.05  # Umbral típico\n",
    "        }\n",
    "    \n",
    "    return resultados_drift"
   ]
  }
 ],
 "metadata": {
  "kernelspec": {
   "display_name": "Python 3 (ipykernel)",
   "language": "python",
   "name": "python3"
  },
  "language_info": {
   "codemirror_mode": {
    "name": "ipython",
    "version": 3
   },
   "file_extension": ".py",
   "mimetype": "text/x-python",
   "name": "python",
   "nbconvert_exporter": "python",
   "pygments_lexer": "ipython3",
   "version": "3.11.7"
  }
 },
 "nbformat": 4,
 "nbformat_minor": 5
}
