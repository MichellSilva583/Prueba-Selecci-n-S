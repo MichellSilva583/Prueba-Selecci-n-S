{
 "cells": [
  {
   "cell_type": "code",
   "execution_count": null,
   "id": "d557d32d-1d85-4ecb-913e-2a8f1689e1bf",
   "metadata": {},
   "outputs": [],
   "source": [
    "from sklearn.decomposition import PCA\n",
    "import numpy as np\n",
    "\n",
    "def analisis_pca_drift(datos_originales, datos_nuevos):\n",
    "    \"\"\"\n",
    "    Detecta cambios en estructura de datos mediante PCA\n",
    "    \"\"\"\n",
    "    # Combinar datos\n",
    "    datos_combinados = np.vstack([\n",
    "        datos_originales, \n",
    "        datos_nuevos\n",
    "    ])\n",
    "    \n",
    "    # Aplicar PCA\n",
    "    pca = PCA()\n",
    "    pca.fit(datos_combinados)\n",
    "    \n",
    "    # Varianza explicada\n",
    "    varianza_acumulada = np.cumsum(pca.explained_variance_ratio_)\n",
    "    \n",
    "    # Componentes principales\n",
    "    componentes = pca.components_\n",
    "    \n",
    "    # Transformar datos\n",
    "    datos_orig_pca = pca.transform(datos_originales)\n",
    "    datos_nuevos_pca = pca.transform(datos_nuevos)\n",
    "    \n",
    "    # Comparar distribuciones de componentes principales\n",
    "    diferencias = np.abs(\n",
    "        np.mean(datos_orig_pca, axis=0) - \n",
    "        np.mean(datos_nuevos_pca, axis=0)\n",
    "    )\n",
    "    \n",
    "    return {\n",
    "        'varianza_explicada': varianza_acumulada,\n",
    "        'diferencias_componentes': diferencias,\n",
    "        'hay_drift': np.any(diferencias > 0.1)  # Umbral configurable\n",
    "    }"
   ]
  }
 ],
 "metadata": {
  "kernelspec": {
   "display_name": "Python 3 (ipykernel)",
   "language": "python",
   "name": "python3"
  },
  "language_info": {
   "codemirror_mode": {
    "name": "ipython",
    "version": 3
   },
   "file_extension": ".py",
   "mimetype": "text/x-python",
   "name": "python",
   "nbconvert_exporter": "python",
   "pygments_lexer": "ipython3",
   "version": "3.11.7"
  }
 },
 "nbformat": 4,
 "nbformat_minor": 5
}
